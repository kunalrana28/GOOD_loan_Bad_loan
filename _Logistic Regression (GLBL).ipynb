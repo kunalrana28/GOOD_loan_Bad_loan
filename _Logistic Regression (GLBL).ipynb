{
 "cells": [
  {
   "cell_type": "markdown",
   "metadata": {},
   "source": [
    "###  Machine Learning Process\n"
   ]
  },
  {
   "cell_type": "markdown",
   "metadata": {},
   "source": [
    "###  Problem Formulation\n",
    "\n",
    "- In this project, we want to investigate \"what factors/variables affect a good or a bad loan\"\n",
    "- Make predictions whether a customer should get its loan approved or not based on their characteristics\n",
    "- Hence our Dependent variable (y) is the Loan Approval (Yes/No) or if the Loan is Good or Bad"
   ]
  },
  {
   "cell_type": "markdown",
   "metadata": {},
   "source": [
    "### Importing / Installing packages"
   ]
  },
  {
   "cell_type": "code",
   "execution_count": 1,
   "metadata": {},
   "outputs": [],
   "source": [
    "# Packages / libraries\n",
    "import os #provides functions for interacting with the operating system\n",
    "import numpy as np \n",
    "import pandas as pd\n",
    "from matplotlib import pyplot as plt\n",
    "import seaborn as sns\n",
    "from sklearn.linear_model import LinearRegression\n",
    "from sklearn.linear_model import LogisticRegression\n",
    "from sklearn.tree import DecisionTreeClassifier\n",
    "from sklearn.model_selection import train_test_split\n",
    "from sklearn.metrics import r2_score, explained_variance_score, confusion_matrix, accuracy_score, classification_report, log_loss\n",
    "from math import sqrt\n",
    "\n",
    "%matplotlib inline\n",
    "\n"
   ]
  },
  {
   "cell_type": "markdown",
   "metadata": {},
   "source": [
    "###  Loading the Raw Data"
   ]
  },
  {
   "cell_type": "code",
   "execution_count": 39,
   "metadata": {},
   "outputs": [
    {
     "name": "stdout",
     "output_type": "stream",
     "text": [
      "(1006, 14)\n"
     ]
    },
    {
     "data": {
      "text/html": [
       "<div>\n",
       "<style scoped>\n",
       "    .dataframe tbody tr th:only-of-type {\n",
       "        vertical-align: middle;\n",
       "    }\n",
       "\n",
       "    .dataframe tbody tr th {\n",
       "        vertical-align: top;\n",
       "    }\n",
       "\n",
       "    .dataframe thead th {\n",
       "        text-align: right;\n",
       "    }\n",
       "</style>\n",
       "<table border=\"1\" class=\"dataframe\">\n",
       "  <thead>\n",
       "    <tr style=\"text-align: right;\">\n",
       "      <th></th>\n",
       "      <th>Type of Account</th>\n",
       "      <th>Account History</th>\n",
       "      <th>Reason for the Loan</th>\n",
       "      <th>Loan Amount</th>\n",
       "      <th>Account Savings</th>\n",
       "      <th>Employment History</th>\n",
       "      <th>Individual Stauts</th>\n",
       "      <th>Other Loans</th>\n",
       "      <th>Security / Collateral</th>\n",
       "      <th>Age</th>\n",
       "      <th>Residence Status</th>\n",
       "      <th>Job</th>\n",
       "      <th>Completed Other loan?</th>\n",
       "      <th>Good Loan</th>\n",
       "    </tr>\n",
       "  </thead>\n",
       "  <tbody>\n",
       "    <tr>\n",
       "      <th>0</th>\n",
       "      <td>No Data</td>\n",
       "      <td>critical</td>\n",
       "      <td>Learning / Edu purposes</td>\n",
       "      <td>2116.0</td>\n",
       "      <td>0-200</td>\n",
       "      <td>5-7 Years</td>\n",
       "      <td>Male</td>\n",
       "      <td>No</td>\n",
       "      <td>Property - Real Estate</td>\n",
       "      <td>47.0</td>\n",
       "      <td>House Owner</td>\n",
       "      <td>Services</td>\n",
       "      <td>No</td>\n",
       "      <td>No</td>\n",
       "    </tr>\n",
       "    <tr>\n",
       "      <th>1</th>\n",
       "      <td>No Data</td>\n",
       "      <td>critical</td>\n",
       "      <td>TV</td>\n",
       "      <td>2438.0</td>\n",
       "      <td>No Data</td>\n",
       "      <td>7+ Years</td>\n",
       "      <td>Male</td>\n",
       "      <td>No</td>\n",
       "      <td>Savings Account</td>\n",
       "      <td>52.0</td>\n",
       "      <td>House Owner</td>\n",
       "      <td>Skilled Labor</td>\n",
       "      <td>No</td>\n",
       "      <td>No</td>\n",
       "    </tr>\n",
       "    <tr>\n",
       "      <th>2</th>\n",
       "      <td>No Data</td>\n",
       "      <td>critical</td>\n",
       "      <td>Buying a New Car</td>\n",
       "      <td>2144.0</td>\n",
       "      <td>0-200</td>\n",
       "      <td>2-5 Years</td>\n",
       "      <td>Male</td>\n",
       "      <td>No</td>\n",
       "      <td>Vehicle</td>\n",
       "      <td>48.0</td>\n",
       "      <td>House Owner</td>\n",
       "      <td>Skilled Labor</td>\n",
       "      <td>No</td>\n",
       "      <td>No</td>\n",
       "    </tr>\n",
       "    <tr>\n",
       "      <th>3</th>\n",
       "      <td>No Data</td>\n",
       "      <td>critical</td>\n",
       "      <td>Home furniture</td>\n",
       "      <td>2073.0</td>\n",
       "      <td>No Data</td>\n",
       "      <td>2-5 Years</td>\n",
       "      <td>Married</td>\n",
       "      <td>No</td>\n",
       "      <td>Vehicle</td>\n",
       "      <td>25.0</td>\n",
       "      <td>House Owner</td>\n",
       "      <td>Skilled Labor</td>\n",
       "      <td>Yes</td>\n",
       "      <td>No</td>\n",
       "    </tr>\n",
       "    <tr>\n",
       "      <th>4</th>\n",
       "      <td>No Data</td>\n",
       "      <td>critical</td>\n",
       "      <td>Support for Business</td>\n",
       "      <td>1276.0</td>\n",
       "      <td>No Data</td>\n",
       "      <td>7+ Years</td>\n",
       "      <td>Male</td>\n",
       "      <td>No</td>\n",
       "      <td>No Security</td>\n",
       "      <td>59.0</td>\n",
       "      <td>Renting</td>\n",
       "      <td>Services</td>\n",
       "      <td>No</td>\n",
       "      <td>No</td>\n",
       "    </tr>\n",
       "  </tbody>\n",
       "</table>\n",
       "</div>"
      ],
      "text/plain": [
       "  Type of Account Account History      Reason for the Loan  Loan Amount  \\\n",
       "0         No Data        critical  Learning / Edu purposes       2116.0   \n",
       "1         No Data        critical                       TV       2438.0   \n",
       "2         No Data        critical         Buying a New Car       2144.0   \n",
       "3         No Data        critical           Home furniture       2073.0   \n",
       "4         No Data        critical     Support for Business       1276.0   \n",
       "\n",
       "  Account Savings Employment History Individual Stauts Other Loans  \\\n",
       "0           0-200          5-7 Years              Male          No   \n",
       "1         No Data           7+ Years              Male          No   \n",
       "2           0-200          2-5 Years              Male          No   \n",
       "3         No Data          2-5 Years           Married          No   \n",
       "4         No Data           7+ Years              Male          No   \n",
       "\n",
       "    Security / Collateral   Age Residence Status            Job  \\\n",
       "0  Property - Real Estate  47.0      House Owner       Services   \n",
       "1         Savings Account  52.0      House Owner  Skilled Labor   \n",
       "2                 Vehicle  48.0      House Owner  Skilled Labor   \n",
       "3                 Vehicle  25.0      House Owner  Skilled Labor   \n",
       "4             No Security  59.0          Renting       Services   \n",
       "\n",
       "  Completed Other loan? Good Loan  \n",
       "0                    No        No  \n",
       "1                    No        No  \n",
       "2                    No        No  \n",
       "3                   Yes        No  \n",
       "4                    No        No  "
      ]
     },
     "execution_count": 39,
     "metadata": {},
     "output_type": "execute_result"
    }
   ],
   "source": [
    "# Loading the data\n",
    "raw_data = pd.read_csv(r'C:\\Users\\Kunal Rana\\Downloads\\Python-Tutorials-master\\Introduction to ML - Logistic Regression Example\\Logistic Regression Dummy Data v3.csv')\n",
    "# print the shape\n",
    "print(raw_data.shape)\n",
    "\n",
    "#runs the first 5 rows\n",
    "raw_data.head(5)"
   ]
  },
  {
   "cell_type": "markdown",
   "metadata": {},
   "source": [
    "##  Data Preprocessing"
   ]
  },
  {
   "cell_type": "markdown",
   "metadata": {},
   "source": [
    "###  Exploratory Data Analysis"
   ]
  },
  {
   "cell_type": "code",
   "execution_count": 3,
   "metadata": {},
   "outputs": [
    {
     "data": {
      "text/plain": [
       "Type of Account          2\n",
       "Account History          2\n",
       "Reason for the Loan      3\n",
       "Loan Amount              3\n",
       "Account Savings          4\n",
       "Employment History       5\n",
       "Individual Stauts        5\n",
       "Other Loans              5\n",
       "Security / Collateral    5\n",
       "Age                      4\n",
       "Residence Status         4\n",
       "Job                      4\n",
       "Completed Other loan?    4\n",
       "Good Loan                5\n",
       "dtype: int64"
      ]
     },
     "execution_count": 3,
     "metadata": {},
     "output_type": "execute_result"
    }
   ],
   "source": [
    "# Checking for null values\n",
    "\n",
    "raw_data.isnull().sum()"
   ]
  },
  {
   "cell_type": "code",
   "execution_count": 4,
   "metadata": {},
   "outputs": [
    {
     "data": {
      "text/html": [
       "<div>\n",
       "<style scoped>\n",
       "    .dataframe tbody tr th:only-of-type {\n",
       "        vertical-align: middle;\n",
       "    }\n",
       "\n",
       "    .dataframe tbody tr th {\n",
       "        vertical-align: top;\n",
       "    }\n",
       "\n",
       "    .dataframe thead th {\n",
       "        text-align: right;\n",
       "    }\n",
       "</style>\n",
       "<table border=\"1\" class=\"dataframe\">\n",
       "  <thead>\n",
       "    <tr style=\"text-align: right;\">\n",
       "      <th></th>\n",
       "      <th>Type of Account</th>\n",
       "      <th>Account History</th>\n",
       "      <th>Reason for the Loan</th>\n",
       "      <th>Loan Amount</th>\n",
       "      <th>Account Savings</th>\n",
       "      <th>Employment History</th>\n",
       "      <th>Individual Stauts</th>\n",
       "      <th>Other Loans</th>\n",
       "      <th>Security / Collateral</th>\n",
       "      <th>Age</th>\n",
       "      <th>Residence Status</th>\n",
       "      <th>Job</th>\n",
       "      <th>Completed Other loan?</th>\n",
       "      <th>Good Loan</th>\n",
       "    </tr>\n",
       "  </thead>\n",
       "  <tbody>\n",
       "    <tr>\n",
       "      <th>686</th>\n",
       "      <td>Type C</td>\n",
       "      <td>Good</td>\n",
       "      <td>Buying a New Car</td>\n",
       "      <td>NaN</td>\n",
       "      <td>NaN</td>\n",
       "      <td>NaN</td>\n",
       "      <td>NaN</td>\n",
       "      <td>NaN</td>\n",
       "      <td>NaN</td>\n",
       "      <td>NaN</td>\n",
       "      <td>NaN</td>\n",
       "      <td>NaN</td>\n",
       "      <td>NaN</td>\n",
       "      <td>NaN</td>\n",
       "    </tr>\n",
       "    <tr>\n",
       "      <th>721</th>\n",
       "      <td>Type C</td>\n",
       "      <td>critical</td>\n",
       "      <td>Home furniture</td>\n",
       "      <td>5387.0</td>\n",
       "      <td>NaN</td>\n",
       "      <td>NaN</td>\n",
       "      <td>NaN</td>\n",
       "      <td>NaN</td>\n",
       "      <td>NaN</td>\n",
       "      <td>NaN</td>\n",
       "      <td>NaN</td>\n",
       "      <td>NaN</td>\n",
       "      <td>NaN</td>\n",
       "      <td>NaN</td>\n",
       "    </tr>\n",
       "    <tr>\n",
       "      <th>737</th>\n",
       "      <td>Type C</td>\n",
       "      <td>Good</td>\n",
       "      <td>NaN</td>\n",
       "      <td>NaN</td>\n",
       "      <td>NaN</td>\n",
       "      <td>NaN</td>\n",
       "      <td>NaN</td>\n",
       "      <td>NaN</td>\n",
       "      <td>NaN</td>\n",
       "      <td>NaN</td>\n",
       "      <td>NaN</td>\n",
       "      <td>NaN</td>\n",
       "      <td>NaN</td>\n",
       "      <td>NaN</td>\n",
       "    </tr>\n",
       "    <tr>\n",
       "      <th>1004</th>\n",
       "      <td>NaN</td>\n",
       "      <td>NaN</td>\n",
       "      <td>NaN</td>\n",
       "      <td>NaN</td>\n",
       "      <td>NaN</td>\n",
       "      <td>NaN</td>\n",
       "      <td>NaN</td>\n",
       "      <td>NaN</td>\n",
       "      <td>NaN</td>\n",
       "      <td>43.0</td>\n",
       "      <td>House Owner</td>\n",
       "      <td>Services</td>\n",
       "      <td>No</td>\n",
       "      <td>NaN</td>\n",
       "    </tr>\n",
       "    <tr>\n",
       "      <th>1005</th>\n",
       "      <td>NaN</td>\n",
       "      <td>NaN</td>\n",
       "      <td>NaN</td>\n",
       "      <td>1765.0</td>\n",
       "      <td>0-201</td>\n",
       "      <td>NaN</td>\n",
       "      <td>NaN</td>\n",
       "      <td>NaN</td>\n",
       "      <td>NaN</td>\n",
       "      <td>NaN</td>\n",
       "      <td>NaN</td>\n",
       "      <td>NaN</td>\n",
       "      <td>NaN</td>\n",
       "      <td>NaN</td>\n",
       "    </tr>\n",
       "  </tbody>\n",
       "</table>\n",
       "</div>"
      ],
      "text/plain": [
       "     Type of Account Account History Reason for the Loan  Loan Amount  \\\n",
       "686           Type C            Good    Buying a New Car          NaN   \n",
       "721           Type C        critical      Home furniture       5387.0   \n",
       "737           Type C            Good                 NaN          NaN   \n",
       "1004             NaN             NaN                 NaN          NaN   \n",
       "1005             NaN             NaN                 NaN       1765.0   \n",
       "\n",
       "     Account Savings Employment History Individual Stauts Other Loans  \\\n",
       "686              NaN                NaN               NaN         NaN   \n",
       "721              NaN                NaN               NaN         NaN   \n",
       "737              NaN                NaN               NaN         NaN   \n",
       "1004             NaN                NaN               NaN         NaN   \n",
       "1005           0-201                NaN               NaN         NaN   \n",
       "\n",
       "     Security / Collateral   Age Residence Status       Job  \\\n",
       "686                    NaN   NaN              NaN       NaN   \n",
       "721                    NaN   NaN              NaN       NaN   \n",
       "737                    NaN   NaN              NaN       NaN   \n",
       "1004                   NaN  43.0      House Owner  Services   \n",
       "1005                   NaN   NaN              NaN       NaN   \n",
       "\n",
       "     Completed Other loan? Good Loan  \n",
       "686                    NaN       NaN  \n",
       "721                    NaN       NaN  \n",
       "737                    NaN       NaN  \n",
       "1004                    No       NaN  \n",
       "1005                   NaN       NaN  "
      ]
     },
     "execution_count": 4,
     "metadata": {},
     "output_type": "execute_result"
    }
   ],
   "source": [
    "# Visualize the NULL observations\n",
    "\n",
    "raw_data[raw_data['Employment History'].isnull()]"
   ]
  },
  {
   "cell_type": "code",
   "execution_count": 5,
   "metadata": {},
   "outputs": [
    {
     "name": "stdout",
     "output_type": "stream",
     "text": [
      "(1001, 14)\n"
     ]
    },
    {
     "data": {
      "text/plain": [
       "Type of Account          0\n",
       "Account History          0\n",
       "Reason for the Loan      0\n",
       "Loan Amount              0\n",
       "Account Savings          0\n",
       "Employment History       0\n",
       "Individual Stauts        0\n",
       "Other Loans              0\n",
       "Security / Collateral    0\n",
       "Age                      0\n",
       "Residence Status         0\n",
       "Job                      0\n",
       "Completed Other loan?    0\n",
       "Good Loan                0\n",
       "dtype: int64"
      ]
     },
     "execution_count": 5,
     "metadata": {},
     "output_type": "execute_result"
    }
   ],
   "source": [
    "# Deleting the NULL values\n",
    "raw_data = raw_data.dropna(subset = ['Employment History'])\n",
    "\n",
    "# Printing the shape\n",
    "print(raw_data.shape)\n",
    "\n",
    "# Visualize the NULL observations\n",
    "raw_data.isnull().sum()"
   ]
  },
  {
   "cell_type": "code",
   "execution_count": 6,
   "metadata": {},
   "outputs": [
    {
     "name": "stdout",
     "output_type": "stream",
     "text": [
      "The number of values for feature Type of Account is: 4 -- ['No Data' 'Type A' 'Type B' 'Type C']\n",
      "The number of values for feature Account History is: 3 -- ['Average (known delays)' 'Good' 'critical']\n",
      "The number of values for feature Reason for the Loan is: 10 -- ['Advance Edu/training' 'All other' 'Buying a New Car' 'Buying a Used Car'\n",
      " 'Home Devices' 'Home furniture' 'Learning / Edu purposes' 'Renovation'\n",
      " 'Support for Business' 'TV']\n",
      "The number of values for feature Loan Amount is: 911\n",
      "The number of values for feature Account Savings is: 5 -- ['0-200' '1000+' '200-500' '500-1000' 'No Data']\n",
      "The number of values for feature Employment History is: 5 -- ['0-2 Years' '2-5 Years' '5-7 Years' '7+ Years' 'Unemployed']\n",
      "The number of values for feature Individual Stauts is: 5 -- ['Divorced' 'Female' 'Female_' 'Male' 'Married']\n",
      "The number of values for feature Other Loans is: 2 -- ['No' 'Yes']\n",
      "The number of values for feature Security / Collateral is: 4 -- ['No Security' 'Property - Real Estate' 'Savings Account' 'Vehicle']\n",
      "The number of values for feature Age is: 57\n",
      "The number of values for feature Residence Status is: 3 -- ['Free' 'House Owner' 'Renting']\n",
      "The number of values for feature Job is: 4 -- ['Not Employed' 'Professional / Management' 'Services' 'Skilled Labor']\n",
      "The number of values for feature Completed Other loan? is: 2 -- ['No' 'Yes']\n",
      "The number of values for feature Good Loan is: 2 -- ['No' 'Yes']\n"
     ]
    }
   ],
   "source": [
    "# Investigate all the elements whithin each Feature \n",
    "\n",
    "for column in raw_data:\n",
    "    unique_values = np.unique(raw_data[column])\n",
    "    nr_values = len(unique_values)\n",
    "    if nr_values <= 10:\n",
    "        print(\"The number of values for feature {} is: {} -- {}\".format(column, nr_values, unique_values))\n",
    "    else:\n",
    "        print(\"The number of values for feature {} is: {}\".format(column, nr_values))"
   ]
  },
  {
   "cell_type": "code",
   "execution_count": 7,
   "metadata": {},
   "outputs": [
    {
     "data": {
      "text/plain": [
       "<seaborn.axisgrid.PairGrid at 0x1e59e940fd0>"
      ]
     },
     "execution_count": 7,
     "metadata": {},
     "output_type": "execute_result"
    },
    {
     "data": {
      "image/png": "[encoded data removed]",
      "text/plain": [
       "<Figure size 360x360 with 6 Axes>"
      ]
     },
     "metadata": {
      "needs_background": "light"
     },
     "output_type": "display_data"
    }
   ],
   "source": [
    "# Visualize the data using seaborn Pairplots\n",
    "\n",
    "sns.pairplot(raw_data,diag_kind='kde')\n"
   ]
  },
  {
   "cell_type": "markdown",
   "metadata": {},
   "source": [
    "###  Data Cleaning"
   ]
  },
  {
   "cell_type": "code",
   "execution_count": 8,
   "metadata": {},
   "outputs": [
    {
     "data": {
      "text/plain": [
       "(1000, 14)"
      ]
     },
     "execution_count": 8,
     "metadata": {},
     "output_type": "execute_result"
    }
   ],
   "source": [
    "# Deleting the outlier\n",
    "\n",
    "raw_data = raw_data[raw_data['Age'] < 100]\n",
    "\n",
    "raw_data.shape"
   ]
  },
  {
   "cell_type": "code",
   "execution_count": 9,
   "metadata": {},
   "outputs": [
    {
     "data": {
      "image/png": "[encoded data removed]",
      "text/plain": [
       "<Figure size 421.125x360 with 6 Axes>"
      ]
     },
     "metadata": {
      "needs_background": "light"
     },
     "output_type": "display_data"
    }
   ],
   "source": [
    "# Visualize the data using seaborn Pairplots\n",
    "\n",
    "g = sns.pairplot(raw_data, hue = 'Good Loan')\n"
   ]
  },
  {
   "cell_type": "code",
   "execution_count": 10,
   "metadata": {},
   "outputs": [
    {
     "data": {
      "text/plain": [
       "<AxesSubplot:xlabel='Good Loan', ylabel='count'>"
      ]
     },
     "execution_count": 10,
     "metadata": {},
     "output_type": "execute_result"
    },
    {
     "data": {
      "image/png": "[encoded data removed]",
      "text/plain": [
       "<Figure size 432x288 with 1 Axes>"
      ]
     },
     "metadata": {
      "needs_background": "light"
     },
     "output_type": "display_data"
    }
   ],
   "source": [
    "# Investigating the distr of y\n",
    "\n",
    "sns.countplot(x = 'Good Loan', data = raw_data, palette = 'Set3')"
   ]
  },
  {
   "cell_type": "code",
   "execution_count": 11,
   "metadata": {},
   "outputs": [
    {
     "data": {
      "text/plain": [
       "Index(['Type of Account', 'Account History', 'Reason for the Loan',\n",
       "       'Loan Amount', 'Account Savings', 'Employment History',\n",
       "       'Individual Stauts', 'Other Loans', 'Security / Collateral', 'Age',\n",
       "       'Residence Status', 'Job', 'Completed Other loan?', 'Good Loan'],\n",
       "      dtype='object')"
      ]
     },
     "execution_count": 11,
     "metadata": {},
     "output_type": "execute_result"
    }
   ],
   "source": [
    "raw_data.columns"
   ]
  },
  {
   "cell_type": "code",
   "execution_count": 12,
   "metadata": {
    "scrolled": true
   },
   "outputs": [
    {
     "data": {
      "image/png": "[encoded data removed]",
      "text/plain": [
       "<Figure size 432x288 with 1 Axes>"
      ]
     },
     "metadata": {
      "needs_background": "light"
     },
     "output_type": "display_data"
    },
    {
     "data": {
      "image/png": "[encoded data removed]",
      "text/plain": [
       "<Figure size 432x288 with 1 Axes>"
      ]
     },
     "metadata": {
      "needs_background": "light"
     },
     "output_type": "display_data"
    },
    {
     "data": {
      "image/png": "[encoded data removed]",
      "text/plain": [
       "<Figure size 432x288 with 1 Axes>"
      ]
     },
     "metadata": {
      "needs_background": "light"
     },
     "output_type": "display_data"
    },
    {
     "data": {
      "image/png": "[encoded data removed]",
      "text/plain": [
       "<Figure size 432x288 with 1 Axes>"
      ]
     },
     "metadata": {
      "needs_background": "light"
     },
     "output_type": "display_data"
    },
    {
     "data": {
      "image/png": "[encoded data removed]",
      "text/plain": [
       "<Figure size 432x288 with 1 Axes>"
      ]
     },
     "metadata": {
      "needs_background": "light"
     },
     "output_type": "display_data"
    },
    {
     "data": {
      "image/png": "[encoded data removed]",
      "text/plain": [
       "<Figure size 432x288 with 1 Axes>"
      ]
     },
     "metadata": {
      "needs_background": "light"
     },
     "output_type": "display_data"
    },
    {
     "data": {
      "image/png": "[encoded data removed]",
      "text/plain": [
       "<Figure size 432x288 with 1 Axes>"
      ]
     },
     "metadata": {
      "needs_background": "light"
     },
     "output_type": "display_data"
    },
    {
     "data": {
      "image/png": "[encoded data removed]",
      "text/plain": [
       "<Figure size 432x288 with 1 Axes>"
      ]
     },
     "metadata": {
      "needs_background": "light"
     },
     "output_type": "display_data"
    },
    {
     "data": {
      "image/png": "[encoded data removed]",
      "text/plain": [
       "<Figure size 432x288 with 1 Axes>"
      ]
     },
     "metadata": {
      "needs_background": "light"
     },
     "output_type": "display_data"
    },
    {
     "data": {
      "image/png": "[encoded data removed]",
      "text/plain": [
       "<Figure size 432x288 with 1 Axes>"
      ]
     },
     "metadata": {
      "needs_background": "light"
     },
     "output_type": "display_data"
    },
    {
     "data": {
      "image/png": "[encoded data removed]",
      "text/plain": [
       "<Figure size 432x288 with 1 Axes>"
      ]
     },
     "metadata": {
      "needs_background": "light"
     },
     "output_type": "display_data"
    }
   ],
   "source": [
    "# Looping through all the features by our y variable - see if there is relationship\n",
    "\n",
    "features = ['Type of Account', 'Account History', 'Reason for the Loan',\n",
    "       'Account Savings', 'Employment History',\n",
    "       'Individual Stauts', 'Other Loans', 'Security / Collateral',\n",
    "       'Residence Status', 'Job', 'Completed Other loan?']\n",
    "\n",
    "for f in features:\n",
    "    sns.countplot(x = f, data = raw_data, palette = 'Set3', hue = 'Good Loan')\n",
    "    plt.show()"
   ]
  },
  {
   "cell_type": "code",
   "execution_count": 41,
   "metadata": {},
   "outputs": [
    {
     "data": {
      "text/plain": [
       "<AxesSubplot:>"
      ]
     },
     "execution_count": 41,
     "metadata": {},
     "output_type": "execute_result"
    },
    {
     "data": {
      "image/png": "[encoded data removed]",
      "text/plain": [
       "<Figure size 432x288 with 2 Axes>"
      ]
     },
     "metadata": {
      "needs_background": "light"
     },
     "output_type": "display_data"
    }
   ],
   "source": [
    "sns.heatmap(raw_data.corr(), cmap=\"YlGnBu\")"
   ]
  },
  {
   "cell_type": "code",
   "execution_count": 13,
   "metadata": {},
   "outputs": [
    {
     "data": {
      "text/html": [
       "<div>\n",
       "<style scoped>\n",
       "    .dataframe tbody tr th:only-of-type {\n",
       "        vertical-align: middle;\n",
       "    }\n",
       "\n",
       "    .dataframe tbody tr th {\n",
       "        vertical-align: top;\n",
       "    }\n",
       "\n",
       "    .dataframe thead th {\n",
       "        text-align: right;\n",
       "    }\n",
       "</style>\n",
       "<table border=\"1\" class=\"dataframe\">\n",
       "  <thead>\n",
       "    <tr style=\"text-align: right;\">\n",
       "      <th></th>\n",
       "      <th>Type of Account</th>\n",
       "      <th>Account History</th>\n",
       "      <th>Reason for the Loan</th>\n",
       "      <th>Loan Amount</th>\n",
       "      <th>Account Savings</th>\n",
       "      <th>Employment History</th>\n",
       "      <th>Individual Stauts</th>\n",
       "      <th>Other Loans</th>\n",
       "      <th>Security / Collateral</th>\n",
       "      <th>Age</th>\n",
       "      <th>Residence Status</th>\n",
       "      <th>Job</th>\n",
       "      <th>Completed Other loan?</th>\n",
       "      <th>Good Loan</th>\n",
       "    </tr>\n",
       "  </thead>\n",
       "  <tbody>\n",
       "    <tr>\n",
       "      <th>0</th>\n",
       "      <td>No Data</td>\n",
       "      <td>critical</td>\n",
       "      <td>Learning / Edu purposes</td>\n",
       "      <td>2116.0</td>\n",
       "      <td>0-200</td>\n",
       "      <td>5-7 Years</td>\n",
       "      <td>Male</td>\n",
       "      <td>No</td>\n",
       "      <td>Property - Real Estate</td>\n",
       "      <td>47.0</td>\n",
       "      <td>House Owner</td>\n",
       "      <td>Services</td>\n",
       "      <td>No</td>\n",
       "      <td>No</td>\n",
       "    </tr>\n",
       "    <tr>\n",
       "      <th>1</th>\n",
       "      <td>No Data</td>\n",
       "      <td>critical</td>\n",
       "      <td>TV</td>\n",
       "      <td>2438.0</td>\n",
       "      <td>No Data</td>\n",
       "      <td>7+ Years</td>\n",
       "      <td>Male</td>\n",
       "      <td>No</td>\n",
       "      <td>Savings Account</td>\n",
       "      <td>52.0</td>\n",
       "      <td>House Owner</td>\n",
       "      <td>Skilled Labor</td>\n",
       "      <td>No</td>\n",
       "      <td>No</td>\n",
       "    </tr>\n",
       "    <tr>\n",
       "      <th>2</th>\n",
       "      <td>No Data</td>\n",
       "      <td>critical</td>\n",
       "      <td>Buying a New Car</td>\n",
       "      <td>2144.0</td>\n",
       "      <td>0-200</td>\n",
       "      <td>2-5 Years</td>\n",
       "      <td>Male</td>\n",
       "      <td>No</td>\n",
       "      <td>Vehicle</td>\n",
       "      <td>48.0</td>\n",
       "      <td>House Owner</td>\n",
       "      <td>Skilled Labor</td>\n",
       "      <td>No</td>\n",
       "      <td>No</td>\n",
       "    </tr>\n",
       "    <tr>\n",
       "      <th>3</th>\n",
       "      <td>No Data</td>\n",
       "      <td>critical</td>\n",
       "      <td>Home furniture</td>\n",
       "      <td>2073.0</td>\n",
       "      <td>No Data</td>\n",
       "      <td>2-5 Years</td>\n",
       "      <td>Married</td>\n",
       "      <td>No</td>\n",
       "      <td>Vehicle</td>\n",
       "      <td>25.0</td>\n",
       "      <td>House Owner</td>\n",
       "      <td>Skilled Labor</td>\n",
       "      <td>Yes</td>\n",
       "      <td>No</td>\n",
       "    </tr>\n",
       "    <tr>\n",
       "      <th>4</th>\n",
       "      <td>No Data</td>\n",
       "      <td>critical</td>\n",
       "      <td>Support for Business</td>\n",
       "      <td>1276.0</td>\n",
       "      <td>No Data</td>\n",
       "      <td>7+ Years</td>\n",
       "      <td>Male</td>\n",
       "      <td>No</td>\n",
       "      <td>No Security</td>\n",
       "      <td>59.0</td>\n",
       "      <td>Renting</td>\n",
       "      <td>Services</td>\n",
       "      <td>No</td>\n",
       "      <td>No</td>\n",
       "    </tr>\n",
       "  </tbody>\n",
       "</table>\n",
       "</div>"
      ],
      "text/plain": [
       "  Type of Account Account History      Reason for the Loan  Loan Amount  \\\n",
       "0         No Data        critical  Learning / Edu purposes       2116.0   \n",
       "1         No Data        critical                       TV       2438.0   \n",
       "2         No Data        critical         Buying a New Car       2144.0   \n",
       "3         No Data        critical           Home furniture       2073.0   \n",
       "4         No Data        critical     Support for Business       1276.0   \n",
       "\n",
       "  Account Savings Employment History Individual Stauts Other Loans  \\\n",
       "0           0-200          5-7 Years              Male          No   \n",
       "1         No Data           7+ Years              Male          No   \n",
       "2           0-200          2-5 Years              Male          No   \n",
       "3         No Data          2-5 Years           Married          No   \n",
       "4         No Data           7+ Years              Male          No   \n",
       "\n",
       "    Security / Collateral   Age Residence Status            Job  \\\n",
       "0  Property - Real Estate  47.0      House Owner       Services   \n",
       "1         Savings Account  52.0      House Owner  Skilled Labor   \n",
       "2                 Vehicle  48.0      House Owner  Skilled Labor   \n",
       "3                 Vehicle  25.0      House Owner  Skilled Labor   \n",
       "4             No Security  59.0          Renting       Services   \n",
       "\n",
       "  Completed Other loan? Good Loan  \n",
       "0                    No        No  \n",
       "1                    No        No  \n",
       "2                    No        No  \n",
       "3                   Yes        No  \n",
       "4                    No        No  "
      ]
     },
     "execution_count": 13,
     "metadata": {},
     "output_type": "execute_result"
    }
   ],
   "source": [
    "raw_data.head()"
   ]
  },
  {
   "cell_type": "code",
   "execution_count": 14,
   "metadata": {},
   "outputs": [
    {
     "name": "stdout",
     "output_type": "stream",
     "text": [
      "(1000, 14)\n",
      "(1000, 49)\n"
     ]
    },
    {
     "name": "stderr",
     "output_type": "stream",
     "text": [
      "<ipython-input-14-eb32f6149e36>:14: SettingWithCopyWarning: \n",
      "A value is trying to be set on a copy of a slice from a DataFrame\n",
      "\n",
      "See the caveats in the documentation: https://pandas.pydata.org/pandas-docs/stable/user_guide/indexing.html#returning-a-view-versus-a-copy\n",
      "  new_raw_data['Good Loan'][new_raw_data['Good Loan'] == 'Yes'] = 1\n",
      "<ipython-input-14-eb32f6149e36>:15: SettingWithCopyWarning: \n",
      "A value is trying to be set on a copy of a slice from a DataFrame\n",
      "\n",
      "See the caveats in the documentation: https://pandas.pydata.org/pandas-docs/stable/user_guide/indexing.html#returning-a-view-versus-a-copy\n",
      "  new_raw_data['Good Loan'][new_raw_data['Good Loan'] == 'No'] = 0\n"
     ]
    },
    {
     "data": {
      "text/html": [
       "<div>\n",
       "<style scoped>\n",
       "    .dataframe tbody tr th:only-of-type {\n",
       "        vertical-align: middle;\n",
       "    }\n",
       "\n",
       "    .dataframe tbody tr th {\n",
       "        vertical-align: top;\n",
       "    }\n",
       "\n",
       "    .dataframe thead th {\n",
       "        text-align: right;\n",
       "    }\n",
       "</style>\n",
       "<table border=\"1\" class=\"dataframe\">\n",
       "  <thead>\n",
       "    <tr style=\"text-align: right;\">\n",
       "      <th></th>\n",
       "      <th>Loan Amount</th>\n",
       "      <th>Age</th>\n",
       "      <th>Good Loan</th>\n",
       "      <th>Type of Account_No Data</th>\n",
       "      <th>Type of Account_Type A</th>\n",
       "      <th>Type of Account_Type B</th>\n",
       "      <th>Type of Account_Type C</th>\n",
       "      <th>Account History_Average (known delays)</th>\n",
       "      <th>Account History_Good</th>\n",
       "      <th>Account History_critical</th>\n",
       "      <th>...</th>\n",
       "      <th>Security / Collateral_Vehicle</th>\n",
       "      <th>Residence Status_Free</th>\n",
       "      <th>Residence Status_House Owner</th>\n",
       "      <th>Residence Status_Renting</th>\n",
       "      <th>Job_Not Employed</th>\n",
       "      <th>Job_Professional / Management</th>\n",
       "      <th>Job_Services</th>\n",
       "      <th>Job_Skilled Labor</th>\n",
       "      <th>Completed Other loan?_No</th>\n",
       "      <th>Completed Other loan?_Yes</th>\n",
       "    </tr>\n",
       "  </thead>\n",
       "  <tbody>\n",
       "    <tr>\n",
       "      <th>0</th>\n",
       "      <td>2116.0</td>\n",
       "      <td>47.0</td>\n",
       "      <td>0</td>\n",
       "      <td>1</td>\n",
       "      <td>0</td>\n",
       "      <td>0</td>\n",
       "      <td>0</td>\n",
       "      <td>0</td>\n",
       "      <td>0</td>\n",
       "      <td>1</td>\n",
       "      <td>...</td>\n",
       "      <td>0</td>\n",
       "      <td>0</td>\n",
       "      <td>1</td>\n",
       "      <td>0</td>\n",
       "      <td>0</td>\n",
       "      <td>0</td>\n",
       "      <td>1</td>\n",
       "      <td>0</td>\n",
       "      <td>1</td>\n",
       "      <td>0</td>\n",
       "    </tr>\n",
       "    <tr>\n",
       "      <th>1</th>\n",
       "      <td>2438.0</td>\n",
       "      <td>52.0</td>\n",
       "      <td>0</td>\n",
       "      <td>1</td>\n",
       "      <td>0</td>\n",
       "      <td>0</td>\n",
       "      <td>0</td>\n",
       "      <td>0</td>\n",
       "      <td>0</td>\n",
       "      <td>1</td>\n",
       "      <td>...</td>\n",
       "      <td>0</td>\n",
       "      <td>0</td>\n",
       "      <td>1</td>\n",
       "      <td>0</td>\n",
       "      <td>0</td>\n",
       "      <td>0</td>\n",
       "      <td>0</td>\n",
       "      <td>1</td>\n",
       "      <td>1</td>\n",
       "      <td>0</td>\n",
       "    </tr>\n",
       "    <tr>\n",
       "      <th>2</th>\n",
       "      <td>2144.0</td>\n",
       "      <td>48.0</td>\n",
       "      <td>0</td>\n",
       "      <td>1</td>\n",
       "      <td>0</td>\n",
       "      <td>0</td>\n",
       "      <td>0</td>\n",
       "      <td>0</td>\n",
       "      <td>0</td>\n",
       "      <td>1</td>\n",
       "      <td>...</td>\n",
       "      <td>1</td>\n",
       "      <td>0</td>\n",
       "      <td>1</td>\n",
       "      <td>0</td>\n",
       "      <td>0</td>\n",
       "      <td>0</td>\n",
       "      <td>0</td>\n",
       "      <td>1</td>\n",
       "      <td>1</td>\n",
       "      <td>0</td>\n",
       "    </tr>\n",
       "    <tr>\n",
       "      <th>3</th>\n",
       "      <td>2073.0</td>\n",
       "      <td>25.0</td>\n",
       "      <td>0</td>\n",
       "      <td>1</td>\n",
       "      <td>0</td>\n",
       "      <td>0</td>\n",
       "      <td>0</td>\n",
       "      <td>0</td>\n",
       "      <td>0</td>\n",
       "      <td>1</td>\n",
       "      <td>...</td>\n",
       "      <td>1</td>\n",
       "      <td>0</td>\n",
       "      <td>1</td>\n",
       "      <td>0</td>\n",
       "      <td>0</td>\n",
       "      <td>0</td>\n",
       "      <td>0</td>\n",
       "      <td>1</td>\n",
       "      <td>0</td>\n",
       "      <td>1</td>\n",
       "    </tr>\n",
       "    <tr>\n",
       "      <th>4</th>\n",
       "      <td>1276.0</td>\n",
       "      <td>59.0</td>\n",
       "      <td>0</td>\n",
       "      <td>1</td>\n",
       "      <td>0</td>\n",
       "      <td>0</td>\n",
       "      <td>0</td>\n",
       "      <td>0</td>\n",
       "      <td>0</td>\n",
       "      <td>1</td>\n",
       "      <td>...</td>\n",
       "      <td>0</td>\n",
       "      <td>0</td>\n",
       "      <td>0</td>\n",
       "      <td>1</td>\n",
       "      <td>0</td>\n",
       "      <td>0</td>\n",
       "      <td>1</td>\n",
       "      <td>0</td>\n",
       "      <td>1</td>\n",
       "      <td>0</td>\n",
       "    </tr>\n",
       "    <tr>\n",
       "      <th>...</th>\n",
       "      <td>...</td>\n",
       "      <td>...</td>\n",
       "      <td>...</td>\n",
       "      <td>...</td>\n",
       "      <td>...</td>\n",
       "      <td>...</td>\n",
       "      <td>...</td>\n",
       "      <td>...</td>\n",
       "      <td>...</td>\n",
       "      <td>...</td>\n",
       "      <td>...</td>\n",
       "      <td>...</td>\n",
       "      <td>...</td>\n",
       "      <td>...</td>\n",
       "      <td>...</td>\n",
       "      <td>...</td>\n",
       "      <td>...</td>\n",
       "      <td>...</td>\n",
       "      <td>...</td>\n",
       "      <td>...</td>\n",
       "      <td>...</td>\n",
       "    </tr>\n",
       "    <tr>\n",
       "      <th>999</th>\n",
       "      <td>3602.0</td>\n",
       "      <td>47.0</td>\n",
       "      <td>0</td>\n",
       "      <td>0</td>\n",
       "      <td>0</td>\n",
       "      <td>0</td>\n",
       "      <td>1</td>\n",
       "      <td>1</td>\n",
       "      <td>0</td>\n",
       "      <td>0</td>\n",
       "      <td>...</td>\n",
       "      <td>0</td>\n",
       "      <td>0</td>\n",
       "      <td>1</td>\n",
       "      <td>0</td>\n",
       "      <td>0</td>\n",
       "      <td>0</td>\n",
       "      <td>1</td>\n",
       "      <td>0</td>\n",
       "      <td>1</td>\n",
       "      <td>0</td>\n",
       "    </tr>\n",
       "    <tr>\n",
       "      <th>1000</th>\n",
       "      <td>4473.0</td>\n",
       "      <td>35.0</td>\n",
       "      <td>0</td>\n",
       "      <td>0</td>\n",
       "      <td>0</td>\n",
       "      <td>0</td>\n",
       "      <td>1</td>\n",
       "      <td>1</td>\n",
       "      <td>0</td>\n",
       "      <td>0</td>\n",
       "      <td>...</td>\n",
       "      <td>0</td>\n",
       "      <td>0</td>\n",
       "      <td>1</td>\n",
       "      <td>0</td>\n",
       "      <td>0</td>\n",
       "      <td>0</td>\n",
       "      <td>0</td>\n",
       "      <td>1</td>\n",
       "      <td>1</td>\n",
       "      <td>0</td>\n",
       "    </tr>\n",
       "    <tr>\n",
       "      <th>1001</th>\n",
       "      <td>12759.0</td>\n",
       "      <td>38.0</td>\n",
       "      <td>1</td>\n",
       "      <td>0</td>\n",
       "      <td>0</td>\n",
       "      <td>0</td>\n",
       "      <td>1</td>\n",
       "      <td>1</td>\n",
       "      <td>0</td>\n",
       "      <td>0</td>\n",
       "      <td>...</td>\n",
       "      <td>1</td>\n",
       "      <td>0</td>\n",
       "      <td>1</td>\n",
       "      <td>0</td>\n",
       "      <td>0</td>\n",
       "      <td>1</td>\n",
       "      <td>0</td>\n",
       "      <td>0</td>\n",
       "      <td>1</td>\n",
       "      <td>0</td>\n",
       "    </tr>\n",
       "    <tr>\n",
       "      <th>1002</th>\n",
       "      <td>2551.0</td>\n",
       "      <td>47.0</td>\n",
       "      <td>0</td>\n",
       "      <td>0</td>\n",
       "      <td>0</td>\n",
       "      <td>0</td>\n",
       "      <td>1</td>\n",
       "      <td>1</td>\n",
       "      <td>0</td>\n",
       "      <td>0</td>\n",
       "      <td>...</td>\n",
       "      <td>1</td>\n",
       "      <td>0</td>\n",
       "      <td>1</td>\n",
       "      <td>0</td>\n",
       "      <td>0</td>\n",
       "      <td>0</td>\n",
       "      <td>1</td>\n",
       "      <td>0</td>\n",
       "      <td>1</td>\n",
       "      <td>0</td>\n",
       "    </tr>\n",
       "    <tr>\n",
       "      <th>1003</th>\n",
       "      <td>1587.0</td>\n",
       "      <td>35.0</td>\n",
       "      <td>1</td>\n",
       "      <td>0</td>\n",
       "      <td>0</td>\n",
       "      <td>0</td>\n",
       "      <td>1</td>\n",
       "      <td>1</td>\n",
       "      <td>0</td>\n",
       "      <td>0</td>\n",
       "      <td>...</td>\n",
       "      <td>1</td>\n",
       "      <td>0</td>\n",
       "      <td>1</td>\n",
       "      <td>0</td>\n",
       "      <td>0</td>\n",
       "      <td>0</td>\n",
       "      <td>1</td>\n",
       "      <td>0</td>\n",
       "      <td>1</td>\n",
       "      <td>0</td>\n",
       "    </tr>\n",
       "  </tbody>\n",
       "</table>\n",
       "<p>1000 rows × 49 columns</p>\n",
       "</div>"
      ],
      "text/plain": [
       "      Loan Amount   Age Good Loan  Type of Account_No Data  \\\n",
       "0          2116.0  47.0         0                        1   \n",
       "1          2438.0  52.0         0                        1   \n",
       "2          2144.0  48.0         0                        1   \n",
       "3          2073.0  25.0         0                        1   \n",
       "4          1276.0  59.0         0                        1   \n",
       "...           ...   ...       ...                      ...   \n",
       "999        3602.0  47.0         0                        0   \n",
       "1000       4473.0  35.0         0                        0   \n",
       "1001      12759.0  38.0         1                        0   \n",
       "1002       2551.0  47.0         0                        0   \n",
       "1003       1587.0  35.0         1                        0   \n",
       "\n",
       "      Type of Account_Type A  Type of Account_Type B  Type of Account_Type C  \\\n",
       "0                          0                       0                       0   \n",
       "1                          0                       0                       0   \n",
       "2                          0                       0                       0   \n",
       "3                          0                       0                       0   \n",
       "4                          0                       0                       0   \n",
       "...                      ...                     ...                     ...   \n",
       "999                        0                       0                       1   \n",
       "1000                       0                       0                       1   \n",
       "1001                       0                       0                       1   \n",
       "1002                       0                       0                       1   \n",
       "1003                       0                       0                       1   \n",
       "\n",
       "      Account History_Average (known delays)  Account History_Good  \\\n",
       "0                                          0                     0   \n",
       "1                                          0                     0   \n",
       "2                                          0                     0   \n",
       "3                                          0                     0   \n",
       "4                                          0                     0   \n",
       "...                                      ...                   ...   \n",
       "999                                        1                     0   \n",
       "1000                                       1                     0   \n",
       "1001                                       1                     0   \n",
       "1002                                       1                     0   \n",
       "1003                                       1                     0   \n",
       "\n",
       "      Account History_critical  ...  Security / Collateral_Vehicle  \\\n",
       "0                            1  ...                              0   \n",
       "1                            1  ...                              0   \n",
       "2                            1  ...                              1   \n",
       "3                            1  ...                              1   \n",
       "4                            1  ...                              0   \n",
       "...                        ...  ...                            ...   \n",
       "999                          0  ...                              0   \n",
       "1000                         0  ...                              0   \n",
       "1001                         0  ...                              1   \n",
       "1002                         0  ...                              1   \n",
       "1003                         0  ...                              1   \n",
       "\n",
       "      Residence Status_Free  Residence Status_House Owner  \\\n",
       "0                         0                             1   \n",
       "1                         0                             1   \n",
       "2                         0                             1   \n",
       "3                         0                             1   \n",
       "4                         0                             0   \n",
       "...                     ...                           ...   \n",
       "999                       0                             1   \n",
       "1000                      0                             1   \n",
       "1001                      0                             1   \n",
       "1002                      0                             1   \n",
       "1003                      0                             1   \n",
       "\n",
       "      Residence Status_Renting  Job_Not Employed  \\\n",
       "0                            0                 0   \n",
       "1                            0                 0   \n",
       "2                            0                 0   \n",
       "3                            0                 0   \n",
       "4                            1                 0   \n",
       "...                        ...               ...   \n",
       "999                          0                 0   \n",
       "1000                         0                 0   \n",
       "1001                         0                 0   \n",
       "1002                         0                 0   \n",
       "1003                         0                 0   \n",
       "\n",
       "      Job_Professional / Management  Job_Services  Job_Skilled Labor  \\\n",
       "0                                 0             1                  0   \n",
       "1                                 0             0                  1   \n",
       "2                                 0             0                  1   \n",
       "3                                 0             0                  1   \n",
       "4                                 0             1                  0   \n",
       "...                             ...           ...                ...   \n",
       "999                               0             1                  0   \n",
       "1000                              0             0                  1   \n",
       "1001                              1             0                  0   \n",
       "1002                              0             1                  0   \n",
       "1003                              0             1                  0   \n",
       "\n",
       "      Completed Other loan?_No  Completed Other loan?_Yes  \n",
       "0                            1                          0  \n",
       "1                            1                          0  \n",
       "2                            1                          0  \n",
       "3                            0                          1  \n",
       "4                            1                          0  \n",
       "...                        ...                        ...  \n",
       "999                          1                          0  \n",
       "1000                         1                          0  \n",
       "1001                         1                          0  \n",
       "1002                         1                          0  \n",
       "1003                         1                          0  \n",
       "\n",
       "[1000 rows x 49 columns]"
      ]
     },
     "execution_count": 14,
     "metadata": {},
     "output_type": "execute_result"
    }
   ],
   "source": [
    "# Making categorical variables into numeric representation\n",
    "\n",
    "new_raw_data = pd.get_dummies(raw_data, columns = features)\n",
    "\n",
    "# Notes:\n",
    "# We can also do this with Label Encoding and OneHotEncoder from the preprocessing library\n",
    "\n",
    "print(raw_data.shape)\n",
    "# print the shape\n",
    "print(new_raw_data.shape)\n",
    "\n",
    "# Creating a new 0-1 y variable\n",
    "#new_raw_data['Loan Approved2'] = 0\n",
    "new_raw_data['Good Loan'][new_raw_data['Good Loan'] == 'Yes'] = 1\n",
    "new_raw_data['Good Loan'][new_raw_data['Good Loan'] == 'No'] = 0\n",
    "\n",
    "# Visualizing the data\n",
    "new_raw_data"
   ]
  },
  {
   "cell_type": "markdown",
   "metadata": {},
   "source": [
    "##  Feature Selection\n",
    "In this example, we do not have many variables so we might use all of the data but in some cases, you have thousands of variables and you will need to filter them in order to save computational time"
   ]
  },
  {
   "cell_type": "markdown",
   "metadata": {},
   "source": [
    "#### Steps of Running Feature Importance\n",
    "- Split the data into X & y\n",
    "- Run a Tree-based estimators (i.e. decision trees & random forests) \n",
    "- Run Feature Importance"
   ]
  },
  {
   "cell_type": "code",
   "execution_count": 15,
   "metadata": {},
   "outputs": [
    {
     "name": "stdout",
     "output_type": "stream",
     "text": [
      "(1000, 48)\n",
      "(1000,)\n"
     ]
    }
   ],
   "source": [
    "# Split the data into X & y\n",
    "\n",
    "X = new_raw_data.drop('Good Loan', axis = 1).values\n",
    "y = new_raw_data['Good Loan']\n",
    "\n",
    "y = y.astype(int)\n",
    "\n",
    "print(X.shape)\n",
    "print(y.shape)"
   ]
  },
  {
   "cell_type": "code",
   "execution_count": 16,
   "metadata": {},
   "outputs": [
    {
     "data": {
      "text/plain": [
       "DecisionTreeClassifier(criterion='entropy', max_depth=10, random_state=15)"
      ]
     },
     "execution_count": 16,
     "metadata": {},
     "output_type": "execute_result"
    }
   ],
   "source": [
    "# Run a Tree-based estimators (i.e. decision trees & random forests)\n",
    "\n",
    "dt = DecisionTreeClassifier(random_state=15, criterion = 'entropy', max_depth = 10)\n",
    "dt.fit(X,y)\n"
   ]
  },
  {
   "cell_type": "code",
   "execution_count": 17,
   "metadata": {},
   "outputs": [
    {
     "name": "stdout",
     "output_type": "stream",
     "text": [
      "The feature importance for Loan Amount is : 0.12122079844891431\n",
      "The feature importance for Age is : 0.07962988068108864\n",
      "The feature importance for Type of Account_No Data is : 0.054236275712355064\n",
      "The feature importance for Type of Account_Type A is : 0.04973253970745607\n",
      "The feature importance for Type of Account_Type B is : 0.0\n",
      "The feature importance for Type of Account_Type C is : 0.026698167265803152\n",
      "The feature importance for Account History_Average (known delays) is : 0.0026219295620499047\n",
      "The feature importance for Account History_Good is : 0.19131616315491018\n",
      "The feature importance for Account History_critical is : 0.0\n",
      "The feature importance for Reason for the Loan_Advance Edu/training is : 0.0\n",
      "The feature importance for Reason for the Loan_All other is : 0.0\n",
      "The feature importance for Reason for the Loan_Buying a New Car is : 0.012188194319512301\n",
      "The feature importance for Reason for the Loan_Buying a Used Car is : 0.00657340597791024\n",
      "The feature importance for Reason for the Loan_Home Devices is : 0.0\n",
      "The feature importance for Reason for the Loan_Home furniture is : 0.008716899473459725\n",
      "The feature importance for Reason for the Loan_Learning / Edu purposes is : 0.003611560491022109\n",
      "The feature importance for Reason for the Loan_Renovation is : 0.006946349151564907\n",
      "The feature importance for Reason for the Loan_Support for Business is : 0.01635801155358825\n",
      "The feature importance for Reason for the Loan_TV is : 0.015757955343115845\n",
      "The feature importance for Account Savings_0-200 is : 0.19751528849263766\n",
      "The feature importance for Account Savings_1000+ is : 0.01551506616006231\n",
      "The feature importance for Account Savings_200-500 is : 0.008634890888709078\n",
      "The feature importance for Account Savings_500-1000 is : 0.004931404726964006\n",
      "The feature importance for Account Savings_No Data is : 0.01647069096901392\n",
      "The feature importance for Employment History_0-2 Years is : 0.009679739345509012\n",
      "The feature importance for Employment History_2-5 Years is : 0.0\n",
      "The feature importance for Employment History_5-7 Years is : 0.007035635401499409\n",
      "The feature importance for Employment History_7+ Years is : 0.003611560491022109\n",
      "The feature importance for Employment History_Unemployed is : 0.006148367056514396\n",
      "The feature importance for Individual Stauts_Divorced is : 0.006927416502805433\n",
      "The feature importance for Individual Stauts_Female is : 0.0026219295620499047\n",
      "The feature importance for Individual Stauts_Male is : 0.003611560491022109\n",
      "The feature importance for Individual Stauts_Married is : 0.00835833354230273\n",
      "The feature importance for Other Loans_No is : 0.0\n",
      "The feature importance for Other Loans_Yes is : 0.017520438348625947\n",
      "The feature importance for Security / Collateral_No Security is : 0.008508456390255208\n",
      "The feature importance for Security / Collateral_Property - Real Estate is : 0.015355303904048401\n",
      "The feature importance for Security / Collateral_Savings Account is : 0.0033875043654293295\n",
      "The feature importance for Security / Collateral_Vehicle is : 0.007223120982044218\n",
      "The feature importance for Residence Status_Free is : 0.005435636285478234\n",
      "The feature importance for Residence Status_House Owner is : 0.009936504848684522\n",
      "The feature importance for Residence Status_Renting is : 0.0022411020862534996\n",
      "The feature importance for Job_Not Employed is : 0.0\n",
      "The feature importance for Job_Professional / Management is : 0.004793497648004599\n",
      "The feature importance for Job_Services is : 0.010006237670772399\n",
      "The feature importance for Job_Skilled Labor is : 0.020596682287826136\n",
      "The feature importance for Completed Other loan?_No is : 0.004254228195127604\n",
      "The feature importance for Completed Other loan?_Yes is : 0.0040712725145872625\n"
     ]
    }
   ],
   "source": [
    "# Running Feature Importance\n",
    "\n",
    "fi_col = []\n",
    "fi = []\n",
    "\n",
    "for i,column in enumerate(new_raw_data.drop('Good Loan', axis = 1)):\n",
    "    print('The feature importance for {} is : {}'.format(column, dt.feature_importances_[i]))\n",
    "    \n",
    "    fi_col.append(column)\n",
    "    fi.append(dt.feature_importances_[i])"
   ]
  },
  {
   "cell_type": "code",
   "execution_count": 18,
   "metadata": {},
   "outputs": [
    {
     "data": {
      "text/html": [
       "<div>\n",
       "<style scoped>\n",
       "    .dataframe tbody tr th:only-of-type {\n",
       "        vertical-align: middle;\n",
       "    }\n",
       "\n",
       "    .dataframe tbody tr th {\n",
       "        vertical-align: top;\n",
       "    }\n",
       "\n",
       "    .dataframe thead th {\n",
       "        text-align: right;\n",
       "    }\n",
       "</style>\n",
       "<table border=\"1\" class=\"dataframe\">\n",
       "  <thead>\n",
       "    <tr style=\"text-align: right;\">\n",
       "      <th></th>\n",
       "      <th>index</th>\n",
       "      <th>Feature</th>\n",
       "      <th>Feature Importance</th>\n",
       "    </tr>\n",
       "  </thead>\n",
       "  <tbody>\n",
       "    <tr>\n",
       "      <th>0</th>\n",
       "      <td>19</td>\n",
       "      <td>Account Savings_0-200</td>\n",
       "      <td>0.197515</td>\n",
       "    </tr>\n",
       "    <tr>\n",
       "      <th>1</th>\n",
       "      <td>7</td>\n",
       "      <td>Account History_Good</td>\n",
       "      <td>0.191316</td>\n",
       "    </tr>\n",
       "    <tr>\n",
       "      <th>2</th>\n",
       "      <td>0</td>\n",
       "      <td>Loan Amount</td>\n",
       "      <td>0.121221</td>\n",
       "    </tr>\n",
       "    <tr>\n",
       "      <th>3</th>\n",
       "      <td>1</td>\n",
       "      <td>Age</td>\n",
       "      <td>0.079630</td>\n",
       "    </tr>\n",
       "    <tr>\n",
       "      <th>4</th>\n",
       "      <td>2</td>\n",
       "      <td>Type of Account_No Data</td>\n",
       "      <td>0.054236</td>\n",
       "    </tr>\n",
       "    <tr>\n",
       "      <th>5</th>\n",
       "      <td>3</td>\n",
       "      <td>Type of Account_Type A</td>\n",
       "      <td>0.049733</td>\n",
       "    </tr>\n",
       "    <tr>\n",
       "      <th>6</th>\n",
       "      <td>5</td>\n",
       "      <td>Type of Account_Type C</td>\n",
       "      <td>0.026698</td>\n",
       "    </tr>\n",
       "    <tr>\n",
       "      <th>7</th>\n",
       "      <td>45</td>\n",
       "      <td>Job_Skilled Labor</td>\n",
       "      <td>0.020597</td>\n",
       "    </tr>\n",
       "    <tr>\n",
       "      <th>8</th>\n",
       "      <td>34</td>\n",
       "      <td>Other Loans_Yes</td>\n",
       "      <td>0.017520</td>\n",
       "    </tr>\n",
       "    <tr>\n",
       "      <th>9</th>\n",
       "      <td>23</td>\n",
       "      <td>Account Savings_No Data</td>\n",
       "      <td>0.016471</td>\n",
       "    </tr>\n",
       "    <tr>\n",
       "      <th>10</th>\n",
       "      <td>17</td>\n",
       "      <td>Reason for the Loan_Support for Business</td>\n",
       "      <td>0.016358</td>\n",
       "    </tr>\n",
       "    <tr>\n",
       "      <th>11</th>\n",
       "      <td>18</td>\n",
       "      <td>Reason for the Loan_TV</td>\n",
       "      <td>0.015758</td>\n",
       "    </tr>\n",
       "    <tr>\n",
       "      <th>12</th>\n",
       "      <td>20</td>\n",
       "      <td>Account Savings_1000+</td>\n",
       "      <td>0.015515</td>\n",
       "    </tr>\n",
       "    <tr>\n",
       "      <th>13</th>\n",
       "      <td>36</td>\n",
       "      <td>Security / Collateral_Property - Real Estate</td>\n",
       "      <td>0.015355</td>\n",
       "    </tr>\n",
       "    <tr>\n",
       "      <th>14</th>\n",
       "      <td>11</td>\n",
       "      <td>Reason for the Loan_Buying a New Car</td>\n",
       "      <td>0.012188</td>\n",
       "    </tr>\n",
       "    <tr>\n",
       "      <th>15</th>\n",
       "      <td>44</td>\n",
       "      <td>Job_Services</td>\n",
       "      <td>0.010006</td>\n",
       "    </tr>\n",
       "    <tr>\n",
       "      <th>16</th>\n",
       "      <td>40</td>\n",
       "      <td>Residence Status_House Owner</td>\n",
       "      <td>0.009937</td>\n",
       "    </tr>\n",
       "    <tr>\n",
       "      <th>17</th>\n",
       "      <td>24</td>\n",
       "      <td>Employment History_0-2 Years</td>\n",
       "      <td>0.009680</td>\n",
       "    </tr>\n",
       "    <tr>\n",
       "      <th>18</th>\n",
       "      <td>14</td>\n",
       "      <td>Reason for the Loan_Home furniture</td>\n",
       "      <td>0.008717</td>\n",
       "    </tr>\n",
       "    <tr>\n",
       "      <th>19</th>\n",
       "      <td>21</td>\n",
       "      <td>Account Savings_200-500</td>\n",
       "      <td>0.008635</td>\n",
       "    </tr>\n",
       "    <tr>\n",
       "      <th>20</th>\n",
       "      <td>35</td>\n",
       "      <td>Security / Collateral_No Security</td>\n",
       "      <td>0.008508</td>\n",
       "    </tr>\n",
       "    <tr>\n",
       "      <th>21</th>\n",
       "      <td>32</td>\n",
       "      <td>Individual Stauts_Married</td>\n",
       "      <td>0.008358</td>\n",
       "    </tr>\n",
       "    <tr>\n",
       "      <th>22</th>\n",
       "      <td>38</td>\n",
       "      <td>Security / Collateral_Vehicle</td>\n",
       "      <td>0.007223</td>\n",
       "    </tr>\n",
       "    <tr>\n",
       "      <th>23</th>\n",
       "      <td>26</td>\n",
       "      <td>Employment History_5-7 Years</td>\n",
       "      <td>0.007036</td>\n",
       "    </tr>\n",
       "    <tr>\n",
       "      <th>24</th>\n",
       "      <td>16</td>\n",
       "      <td>Reason for the Loan_Renovation</td>\n",
       "      <td>0.006946</td>\n",
       "    </tr>\n",
       "    <tr>\n",
       "      <th>25</th>\n",
       "      <td>29</td>\n",
       "      <td>Individual Stauts_Divorced</td>\n",
       "      <td>0.006927</td>\n",
       "    </tr>\n",
       "    <tr>\n",
       "      <th>26</th>\n",
       "      <td>12</td>\n",
       "      <td>Reason for the Loan_Buying a Used Car</td>\n",
       "      <td>0.006573</td>\n",
       "    </tr>\n",
       "    <tr>\n",
       "      <th>27</th>\n",
       "      <td>28</td>\n",
       "      <td>Employment History_Unemployed</td>\n",
       "      <td>0.006148</td>\n",
       "    </tr>\n",
       "    <tr>\n",
       "      <th>28</th>\n",
       "      <td>39</td>\n",
       "      <td>Residence Status_Free</td>\n",
       "      <td>0.005436</td>\n",
       "    </tr>\n",
       "    <tr>\n",
       "      <th>29</th>\n",
       "      <td>22</td>\n",
       "      <td>Account Savings_500-1000</td>\n",
       "      <td>0.004931</td>\n",
       "    </tr>\n",
       "    <tr>\n",
       "      <th>30</th>\n",
       "      <td>43</td>\n",
       "      <td>Job_Professional / Management</td>\n",
       "      <td>0.004793</td>\n",
       "    </tr>\n",
       "    <tr>\n",
       "      <th>31</th>\n",
       "      <td>46</td>\n",
       "      <td>Completed Other loan?_No</td>\n",
       "      <td>0.004254</td>\n",
       "    </tr>\n",
       "    <tr>\n",
       "      <th>32</th>\n",
       "      <td>47</td>\n",
       "      <td>Completed Other loan?_Yes</td>\n",
       "      <td>0.004071</td>\n",
       "    </tr>\n",
       "    <tr>\n",
       "      <th>33</th>\n",
       "      <td>15</td>\n",
       "      <td>Reason for the Loan_Learning / Edu purposes</td>\n",
       "      <td>0.003612</td>\n",
       "    </tr>\n",
       "    <tr>\n",
       "      <th>34</th>\n",
       "      <td>31</td>\n",
       "      <td>Individual Stauts_Male</td>\n",
       "      <td>0.003612</td>\n",
       "    </tr>\n",
       "    <tr>\n",
       "      <th>35</th>\n",
       "      <td>27</td>\n",
       "      <td>Employment History_7+ Years</td>\n",
       "      <td>0.003612</td>\n",
       "    </tr>\n",
       "    <tr>\n",
       "      <th>36</th>\n",
       "      <td>37</td>\n",
       "      <td>Security / Collateral_Savings Account</td>\n",
       "      <td>0.003388</td>\n",
       "    </tr>\n",
       "    <tr>\n",
       "      <th>37</th>\n",
       "      <td>30</td>\n",
       "      <td>Individual Stauts_Female</td>\n",
       "      <td>0.002622</td>\n",
       "    </tr>\n",
       "    <tr>\n",
       "      <th>38</th>\n",
       "      <td>6</td>\n",
       "      <td>Account History_Average (known delays)</td>\n",
       "      <td>0.002622</td>\n",
       "    </tr>\n",
       "    <tr>\n",
       "      <th>39</th>\n",
       "      <td>41</td>\n",
       "      <td>Residence Status_Renting</td>\n",
       "      <td>0.002241</td>\n",
       "    </tr>\n",
       "    <tr>\n",
       "      <th>40</th>\n",
       "      <td>10</td>\n",
       "      <td>Reason for the Loan_All other</td>\n",
       "      <td>0.000000</td>\n",
       "    </tr>\n",
       "    <tr>\n",
       "      <th>41</th>\n",
       "      <td>9</td>\n",
       "      <td>Reason for the Loan_Advance Edu/training</td>\n",
       "      <td>0.000000</td>\n",
       "    </tr>\n",
       "    <tr>\n",
       "      <th>42</th>\n",
       "      <td>8</td>\n",
       "      <td>Account History_critical</td>\n",
       "      <td>0.000000</td>\n",
       "    </tr>\n",
       "    <tr>\n",
       "      <th>43</th>\n",
       "      <td>42</td>\n",
       "      <td>Job_Not Employed</td>\n",
       "      <td>0.000000</td>\n",
       "    </tr>\n",
       "    <tr>\n",
       "      <th>44</th>\n",
       "      <td>25</td>\n",
       "      <td>Employment History_2-5 Years</td>\n",
       "      <td>0.000000</td>\n",
       "    </tr>\n",
       "    <tr>\n",
       "      <th>45</th>\n",
       "      <td>4</td>\n",
       "      <td>Type of Account_Type B</td>\n",
       "      <td>0.000000</td>\n",
       "    </tr>\n",
       "    <tr>\n",
       "      <th>46</th>\n",
       "      <td>13</td>\n",
       "      <td>Reason for the Loan_Home Devices</td>\n",
       "      <td>0.000000</td>\n",
       "    </tr>\n",
       "    <tr>\n",
       "      <th>47</th>\n",
       "      <td>33</td>\n",
       "      <td>Other Loans_No</td>\n",
       "      <td>0.000000</td>\n",
       "    </tr>\n",
       "  </tbody>\n",
       "</table>\n",
       "</div>"
      ],
      "text/plain": [
       "    index                                       Feature  Feature Importance\n",
       "0      19                         Account Savings_0-200            0.197515\n",
       "1       7                          Account History_Good            0.191316\n",
       "2       0                                   Loan Amount            0.121221\n",
       "3       1                                           Age            0.079630\n",
       "4       2                       Type of Account_No Data            0.054236\n",
       "5       3                        Type of Account_Type A            0.049733\n",
       "6       5                        Type of Account_Type C            0.026698\n",
       "7      45                             Job_Skilled Labor            0.020597\n",
       "8      34                               Other Loans_Yes            0.017520\n",
       "9      23                       Account Savings_No Data            0.016471\n",
       "10     17      Reason for the Loan_Support for Business            0.016358\n",
       "11     18                        Reason for the Loan_TV            0.015758\n",
       "12     20                         Account Savings_1000+            0.015515\n",
       "13     36  Security / Collateral_Property - Real Estate            0.015355\n",
       "14     11          Reason for the Loan_Buying a New Car            0.012188\n",
       "15     44                                  Job_Services            0.010006\n",
       "16     40                  Residence Status_House Owner            0.009937\n",
       "17     24                  Employment History_0-2 Years            0.009680\n",
       "18     14            Reason for the Loan_Home furniture            0.008717\n",
       "19     21                       Account Savings_200-500            0.008635\n",
       "20     35             Security / Collateral_No Security            0.008508\n",
       "21     32                     Individual Stauts_Married            0.008358\n",
       "22     38                 Security / Collateral_Vehicle            0.007223\n",
       "23     26                  Employment History_5-7 Years            0.007036\n",
       "24     16                Reason for the Loan_Renovation            0.006946\n",
       "25     29                    Individual Stauts_Divorced            0.006927\n",
       "26     12         Reason for the Loan_Buying a Used Car            0.006573\n",
       "27     28                 Employment History_Unemployed            0.006148\n",
       "28     39                         Residence Status_Free            0.005436\n",
       "29     22                      Account Savings_500-1000            0.004931\n",
       "30     43                 Job_Professional / Management            0.004793\n",
       "31     46                      Completed Other loan?_No            0.004254\n",
       "32     47                     Completed Other loan?_Yes            0.004071\n",
       "33     15   Reason for the Loan_Learning / Edu purposes            0.003612\n",
       "34     31                        Individual Stauts_Male            0.003612\n",
       "35     27                   Employment History_7+ Years            0.003612\n",
       "36     37         Security / Collateral_Savings Account            0.003388\n",
       "37     30                      Individual Stauts_Female            0.002622\n",
       "38      6        Account History_Average (known delays)            0.002622\n",
       "39     41                      Residence Status_Renting            0.002241\n",
       "40     10                 Reason for the Loan_All other            0.000000\n",
       "41      9      Reason for the Loan_Advance Edu/training            0.000000\n",
       "42      8                      Account History_critical            0.000000\n",
       "43     42                              Job_Not Employed            0.000000\n",
       "44     25                  Employment History_2-5 Years            0.000000\n",
       "45      4                        Type of Account_Type B            0.000000\n",
       "46     13              Reason for the Loan_Home Devices            0.000000\n",
       "47     33                                Other Loans_No            0.000000"
      ]
     },
     "execution_count": 18,
     "metadata": {},
     "output_type": "execute_result"
    }
   ],
   "source": [
    "# Creating a Dataframe\n",
    "fi_col\n",
    "fi\n",
    "\n",
    "fi_df = zip(fi_col, fi)\n",
    "fi_df = pd.DataFrame(fi_df, columns = ['Feature','Feature Importance'])\n",
    "fi_df\n",
    "\n",
    "\n",
    "# Ordering the data\n",
    "fi_df = fi_df.sort_values('Feature Importance', ascending = False).reset_index()\n",
    "\n",
    "# Creating columns to keep\n",
    "columns_to_keep = fi_df['Feature'][0:40]\n",
    "\n",
    "fi_df"
   ]
  },
  {
   "cell_type": "markdown",
   "metadata": {},
   "source": [
    "##  Splitting the Raw Data - Hold-out validation"
   ]
  },
  {
   "cell_type": "code",
   "execution_count": 19,
   "metadata": {},
   "outputs": [
    {
     "name": "stdout",
     "output_type": "stream",
     "text": [
      "(1000, 49)\n",
      "(1000, 40)\n"
     ]
    }
   ],
   "source": [
    "# Print the shapes\n",
    "\n",
    "print(new_raw_data.shape)\n",
    "print(new_raw_data[columns_to_keep].shape)\n",
    "\n",
    "# new_raw_data = new_raw_data[columns_to_keep]"
   ]
  },
  {
   "cell_type": "code",
   "execution_count": 20,
   "metadata": {},
   "outputs": [
    {
     "data": {
      "text/html": [
       "<div>\n",
       "<style scoped>\n",
       "    .dataframe tbody tr th:only-of-type {\n",
       "        vertical-align: middle;\n",
       "    }\n",
       "\n",
       "    .dataframe tbody tr th {\n",
       "        vertical-align: top;\n",
       "    }\n",
       "\n",
       "    .dataframe thead th {\n",
       "        text-align: right;\n",
       "    }\n",
       "</style>\n",
       "<table border=\"1\" class=\"dataframe\">\n",
       "  <thead>\n",
       "    <tr style=\"text-align: right;\">\n",
       "      <th></th>\n",
       "      <th>Loan Amount</th>\n",
       "      <th>Age</th>\n",
       "      <th>Good Loan</th>\n",
       "      <th>Type of Account_No Data</th>\n",
       "      <th>Type of Account_Type A</th>\n",
       "      <th>Type of Account_Type B</th>\n",
       "      <th>Type of Account_Type C</th>\n",
       "      <th>Account History_Average (known delays)</th>\n",
       "      <th>Account History_Good</th>\n",
       "      <th>Account History_critical</th>\n",
       "      <th>...</th>\n",
       "      <th>Security / Collateral_Vehicle</th>\n",
       "      <th>Residence Status_Free</th>\n",
       "      <th>Residence Status_House Owner</th>\n",
       "      <th>Residence Status_Renting</th>\n",
       "      <th>Job_Not Employed</th>\n",
       "      <th>Job_Professional / Management</th>\n",
       "      <th>Job_Services</th>\n",
       "      <th>Job_Skilled Labor</th>\n",
       "      <th>Completed Other loan?_No</th>\n",
       "      <th>Completed Other loan?_Yes</th>\n",
       "    </tr>\n",
       "  </thead>\n",
       "  <tbody>\n",
       "    <tr>\n",
       "      <th>0</th>\n",
       "      <td>2116.0</td>\n",
       "      <td>47.0</td>\n",
       "      <td>0</td>\n",
       "      <td>1</td>\n",
       "      <td>0</td>\n",
       "      <td>0</td>\n",
       "      <td>0</td>\n",
       "      <td>0</td>\n",
       "      <td>0</td>\n",
       "      <td>1</td>\n",
       "      <td>...</td>\n",
       "      <td>0</td>\n",
       "      <td>0</td>\n",
       "      <td>1</td>\n",
       "      <td>0</td>\n",
       "      <td>0</td>\n",
       "      <td>0</td>\n",
       "      <td>1</td>\n",
       "      <td>0</td>\n",
       "      <td>1</td>\n",
       "      <td>0</td>\n",
       "    </tr>\n",
       "    <tr>\n",
       "      <th>1</th>\n",
       "      <td>2438.0</td>\n",
       "      <td>52.0</td>\n",
       "      <td>0</td>\n",
       "      <td>1</td>\n",
       "      <td>0</td>\n",
       "      <td>0</td>\n",
       "      <td>0</td>\n",
       "      <td>0</td>\n",
       "      <td>0</td>\n",
       "      <td>1</td>\n",
       "      <td>...</td>\n",
       "      <td>0</td>\n",
       "      <td>0</td>\n",
       "      <td>1</td>\n",
       "      <td>0</td>\n",
       "      <td>0</td>\n",
       "      <td>0</td>\n",
       "      <td>0</td>\n",
       "      <td>1</td>\n",
       "      <td>1</td>\n",
       "      <td>0</td>\n",
       "    </tr>\n",
       "    <tr>\n",
       "      <th>2</th>\n",
       "      <td>2144.0</td>\n",
       "      <td>48.0</td>\n",
       "      <td>0</td>\n",
       "      <td>1</td>\n",
       "      <td>0</td>\n",
       "      <td>0</td>\n",
       "      <td>0</td>\n",
       "      <td>0</td>\n",
       "      <td>0</td>\n",
       "      <td>1</td>\n",
       "      <td>...</td>\n",
       "      <td>1</td>\n",
       "      <td>0</td>\n",
       "      <td>1</td>\n",
       "      <td>0</td>\n",
       "      <td>0</td>\n",
       "      <td>0</td>\n",
       "      <td>0</td>\n",
       "      <td>1</td>\n",
       "      <td>1</td>\n",
       "      <td>0</td>\n",
       "    </tr>\n",
       "    <tr>\n",
       "      <th>3</th>\n",
       "      <td>2073.0</td>\n",
       "      <td>25.0</td>\n",
       "      <td>0</td>\n",
       "      <td>1</td>\n",
       "      <td>0</td>\n",
       "      <td>0</td>\n",
       "      <td>0</td>\n",
       "      <td>0</td>\n",
       "      <td>0</td>\n",
       "      <td>1</td>\n",
       "      <td>...</td>\n",
       "      <td>1</td>\n",
       "      <td>0</td>\n",
       "      <td>1</td>\n",
       "      <td>0</td>\n",
       "      <td>0</td>\n",
       "      <td>0</td>\n",
       "      <td>0</td>\n",
       "      <td>1</td>\n",
       "      <td>0</td>\n",
       "      <td>1</td>\n",
       "    </tr>\n",
       "    <tr>\n",
       "      <th>4</th>\n",
       "      <td>1276.0</td>\n",
       "      <td>59.0</td>\n",
       "      <td>0</td>\n",
       "      <td>1</td>\n",
       "      <td>0</td>\n",
       "      <td>0</td>\n",
       "      <td>0</td>\n",
       "      <td>0</td>\n",
       "      <td>0</td>\n",
       "      <td>1</td>\n",
       "      <td>...</td>\n",
       "      <td>0</td>\n",
       "      <td>0</td>\n",
       "      <td>0</td>\n",
       "      <td>1</td>\n",
       "      <td>0</td>\n",
       "      <td>0</td>\n",
       "      <td>1</td>\n",
       "      <td>0</td>\n",
       "      <td>1</td>\n",
       "      <td>0</td>\n",
       "    </tr>\n",
       "  </tbody>\n",
       "</table>\n",
       "<p>5 rows × 49 columns</p>\n",
       "</div>"
      ],
      "text/plain": [
       "   Loan Amount   Age Good Loan  Type of Account_No Data  \\\n",
       "0       2116.0  47.0         0                        1   \n",
       "1       2438.0  52.0         0                        1   \n",
       "2       2144.0  48.0         0                        1   \n",
       "3       2073.0  25.0         0                        1   \n",
       "4       1276.0  59.0         0                        1   \n",
       "\n",
       "   Type of Account_Type A  Type of Account_Type B  Type of Account_Type C  \\\n",
       "0                       0                       0                       0   \n",
       "1                       0                       0                       0   \n",
       "2                       0                       0                       0   \n",
       "3                       0                       0                       0   \n",
       "4                       0                       0                       0   \n",
       "\n",
       "   Account History_Average (known delays)  Account History_Good  \\\n",
       "0                                       0                     0   \n",
       "1                                       0                     0   \n",
       "2                                       0                     0   \n",
       "3                                       0                     0   \n",
       "4                                       0                     0   \n",
       "\n",
       "   Account History_critical  ...  Security / Collateral_Vehicle  \\\n",
       "0                         1  ...                              0   \n",
       "1                         1  ...                              0   \n",
       "2                         1  ...                              1   \n",
       "3                         1  ...                              1   \n",
       "4                         1  ...                              0   \n",
       "\n",
       "   Residence Status_Free  Residence Status_House Owner  \\\n",
       "0                      0                             1   \n",
       "1                      0                             1   \n",
       "2                      0                             1   \n",
       "3                      0                             1   \n",
       "4                      0                             0   \n",
       "\n",
       "   Residence Status_Renting  Job_Not Employed  Job_Professional / Management  \\\n",
       "0                         0                 0                              0   \n",
       "1                         0                 0                              0   \n",
       "2                         0                 0                              0   \n",
       "3                         0                 0                              0   \n",
       "4                         1                 0                              0   \n",
       "\n",
       "   Job_Services  Job_Skilled Labor  Completed Other loan?_No  \\\n",
       "0             1                  0                         1   \n",
       "1             0                  1                         1   \n",
       "2             0                  1                         1   \n",
       "3             0                  1                         0   \n",
       "4             1                  0                         1   \n",
       "\n",
       "   Completed Other loan?_Yes  \n",
       "0                          0  \n",
       "1                          0  \n",
       "2                          0  \n",
       "3                          1  \n",
       "4                          0  \n",
       "\n",
       "[5 rows x 49 columns]"
      ]
     },
     "execution_count": 20,
     "metadata": {},
     "output_type": "execute_result"
    }
   ],
   "source": [
    "new_raw_data.head()"
   ]
  },
  {
   "cell_type": "code",
   "execution_count": 21,
   "metadata": {},
   "outputs": [
    {
     "name": "stdout",
     "output_type": "stream",
     "text": [
      "(1000, 40)\n",
      "(1000,)\n"
     ]
    }
   ],
   "source": [
    "# Split the data into X & y\n",
    "\n",
    "X = new_raw_data[columns_to_keep].values\n",
    "X\n",
    "\n",
    "y = new_raw_data['Good Loan']\n",
    "y = y.astype(int)\n",
    "y\n",
    "\n",
    "print(X.shape)\n",
    "print(y.shape)"
   ]
  },
  {
   "cell_type": "code",
   "execution_count": 22,
   "metadata": {},
   "outputs": [
    {
     "name": "stdout",
     "output_type": "stream",
     "text": [
      "(720, 40)\n",
      "(200, 40)\n",
      "(80, 40)\n",
      "(720,)\n",
      "(200,)\n",
      "(80,)\n"
     ]
    }
   ],
   "source": [
    "# Hold-out validation\n",
    "\n",
    "# first one\n",
    "X_train, X_test, y_train, y_test = train_test_split(X, y, train_size = 0.8, test_size=0.2, random_state=15)\n",
    "\n",
    "# Second one\n",
    "X_train, X_valid, y_train, y_valid = train_test_split(X_train, y_train, train_size = 0.9, test_size=0.1, random_state=15)\n",
    "\n",
    "print(X_train.shape)\n",
    "print(X_test.shape)\n",
    "print(X_valid.shape)\n",
    "\n",
    "print(y_train.shape)\n",
    "print(y_test.shape)\n",
    "print(y_valid.shape)\n"
   ]
  },
  {
   "cell_type": "code",
   "execution_count": 23,
   "metadata": {},
   "outputs": [
    {
     "data": {
      "image/png": "[encoded data removed]",
      "text/plain": [
       "<Figure size 432x288 with 1 Axes>"
      ]
     },
     "metadata": {
      "needs_background": "light"
     },
     "output_type": "display_data"
    }
   ],
   "source": [
    "# Investigating the distr of all ys\n",
    "\n",
    "ax = sns.countplot(x = y_valid, palette = \"Set3\")"
   ]
  },
  {
   "cell_type": "markdown",
   "metadata": {},
   "source": [
    "##  What is Logistic Regression \n",
    "\n",
    "- Famous statistical method for predicting two or more binary classes; not continues numbers. \n",
    "- Hence, Logistic regression is used for classification problems\n",
    "- To make it work, we transform our linear regression line into a logistic regression curve so we can get a good fit of our data (see pics below) "
   ]
  },
  {
   "cell_type": "markdown",
   "metadata": {},
   "source": [
    "### How it works:\n",
    " \n",
    "- We fit an \"S\" Shape logistic Function\n",
    "- The curve tells you the porbability if a loan is good or bad\n",
    "- If we have a high Credit score, there is a high probability that it's a good loan\n"
   ]
  },
  {
   "cell_type": "markdown",
   "metadata": {},
   "source": [
    "##  Running Logistic Regression"
   ]
  },
  {
   "cell_type": "code",
   "execution_count": 24,
   "metadata": {},
   "outputs": [
    {
     "data": {
      "text/plain": [
       "LogisticRegression(random_state=10)"
      ]
     },
     "execution_count": 24,
     "metadata": {},
     "output_type": "execute_result"
    }
   ],
   "source": [
    "# Training my model\n",
    "\n",
    "log_reg = LogisticRegression(random_state=10, solver = 'lbfgs')\n",
    "\n",
    "log_reg.fit(X_train, y_train)\n"
   ]
  },
  {
   "cell_type": "code",
   "execution_count": 25,
   "metadata": {},
   "outputs": [
    {
     "data": {
      "text/plain": [
       "array([[-1.41441465e+00,  1.89551503e+00, -1.24171731e-04,\n",
       "         6.60322114e-03, -1.45175929e+00,  9.71756106e-01,\n",
       "        -1.91489366e-01, -8.90671558e-02,  2.58479575e-01,\n",
       "         5.29939064e-01,  1.61084246e-01,  5.01415585e-02,\n",
       "         2.39664493e-01,  4.42354325e-01, -6.90157858e-01,\n",
       "        -1.17223569e-01,  4.17369698e-02, -4.51682373e-01,\n",
       "         3.13925413e-01,  1.69194102e-01, -3.79968216e-01,\n",
       "         3.41166746e-02, -1.70529344e-01,  5.08263163e-01,\n",
       "        -1.35459352e-01,  1.39613625e-02,  3.92004105e-01,\n",
       "         4.73274747e-02, -3.69502781e-02,  3.65565905e-01,\n",
       "         1.27444022e-01, -2.42493284e-01,  1.32442196e-01,\n",
       "        -2.78851445e-01,  1.01799479e-01, -6.65916765e-02,\n",
       "        -1.90785278e-03, -2.59928604e-01,  1.12388839e-01,\n",
       "        -1.14837780e-01]])"
      ]
     },
     "execution_count": 25,
     "metadata": {},
     "output_type": "execute_result"
    }
   ],
   "source": [
    "# Methods we can use in Logistic\n",
    "\n",
    "# predict - Predict class labels for samples in X\n",
    "log_reg.predict(X_train)\n",
    "y_pred = log_reg.predict(X_train)\n",
    "\n",
    "# predict_proba - Probability estimates\n",
    "pred_proba = log_reg.predict_proba(X_train)\n",
    "\n",
    "# coef_ - Coefficient of the features in the decision function\n",
    "log_reg.coef_\n",
    "\n",
    "# score- Returns the mean accuracy on the given test data and labels - below"
   ]
  },
  {
   "cell_type": "markdown",
   "metadata": {},
   "source": [
    "##  Evaluating the Model"
   ]
  },
  {
   "cell_type": "code",
   "execution_count": 26,
   "metadata": {},
   "outputs": [
    {
     "name": "stdout",
     "output_type": "stream",
     "text": [
      "The Training Accuracy is:  0.7791666666666667\n",
      "The Testing Accuracy is:  0.75\n",
      "              precision    recall  f1-score   support\n",
      "\n",
      "           0       0.79      0.80      0.80       387\n",
      "           1       0.77      0.75      0.76       333\n",
      "\n",
      "    accuracy                           0.78       720\n",
      "   macro avg       0.78      0.78      0.78       720\n",
      "weighted avg       0.78      0.78      0.78       720\n",
      "\n"
     ]
    }
   ],
   "source": [
    "# Accuracy on Train\n",
    "print(\"The Training Accuracy is: \", log_reg.score(X_train, y_train))\n",
    "\n",
    "# Accuracy on Test\n",
    "print(\"The Testing Accuracy is: \", log_reg.score(X_test, y_test))\n",
    "\n",
    "\n",
    "# Classification Report\n",
    "print(classification_report(y_train, y_pred))\n",
    "\n"
   ]
  },
  {
   "cell_type": "code",
   "execution_count": 27,
   "metadata": {},
   "outputs": [],
   "source": [
    "# Confusion Matrix function\n",
    "\n",
    "def plot_confusion_matrix(cm, classes=None, title='Confusion matrix'):\n",
    "    \"\"\"Plots a confusion matrix.\"\"\"\n",
    "    if classes is not None:\n",
    "        sns.heatmap(cm, cmap=\"YlGnBu\", xticklabels=classes, yticklabels=classes, vmin=0., vmax=1., annot=True, annot_kws={'size':50})\n",
    "    else:\n",
    "        sns.heatmap(cm, vmin=0., vmax=1.)\n",
    "    plt.title(title)\n",
    "    plt.ylabel('True label')\n",
    "    plt.xlabel('Predicted label')"
   ]
  },
  {
   "cell_type": "code",
   "execution_count": 28,
   "metadata": {},
   "outputs": [
    {
     "data": {
      "image/png": "[encoded data removed]",
      "text/plain": [
       "<Figure size 432x288 with 2 Axes>"
      ]
     },
     "metadata": {
      "needs_background": "light"
     },
     "output_type": "display_data"
    }
   ],
   "source": [
    "# Visualizing cm\n",
    "\n",
    "cm = confusion_matrix(y_train, y_pred)\n",
    "cm_norm = cm / cm.sum(axis=1).reshape(-1,1)\n",
    "\n",
    "plot_confusion_matrix(cm_norm, classes = log_reg.classes_, title='Confusion matrix')"
   ]
  },
  {
   "cell_type": "code",
   "execution_count": 29,
   "metadata": {},
   "outputs": [
    {
     "data": {
      "text/plain": [
       "array([0, 1])"
      ]
     },
     "execution_count": 29,
     "metadata": {},
     "output_type": "execute_result"
    }
   ],
   "source": [
    "log_reg.classes_"
   ]
  },
  {
   "cell_type": "code",
   "execution_count": 30,
   "metadata": {},
   "outputs": [
    {
     "data": {
      "text/plain": [
       "array([[0.80361757, 0.19638243],\n",
       "       [0.24924925, 0.75075075]])"
      ]
     },
     "execution_count": 30,
     "metadata": {},
     "output_type": "execute_result"
    }
   ],
   "source": [
    "cm.sum(axis=1)\n",
    "cm_norm"
   ]
  },
  {
   "cell_type": "code",
   "execution_count": 31,
   "metadata": {},
   "outputs": [
    {
     "data": {
      "text/plain": [
       "array([[311,  76],\n",
       "       [ 83, 250]], dtype=int64)"
      ]
     },
     "execution_count": 31,
     "metadata": {},
     "output_type": "execute_result"
    }
   ],
   "source": [
    "cm"
   ]
  },
  {
   "cell_type": "code",
   "execution_count": 32,
   "metadata": {},
   "outputs": [
    {
     "data": {
      "text/plain": [
       "array([394, 326], dtype=int64)"
      ]
     },
     "execution_count": 32,
     "metadata": {},
     "output_type": "execute_result"
    }
   ],
   "source": [
    "cm.sum(axis=0)"
   ]
  },
  {
   "cell_type": "code",
   "execution_count": 33,
   "metadata": {},
   "outputs": [
    {
     "data": {
      "text/plain": [
       "array([311, 250], dtype=int64)"
      ]
     },
     "execution_count": 33,
     "metadata": {},
     "output_type": "execute_result"
    }
   ],
   "source": [
    "np.diag(cm)"
   ]
  },
  {
   "cell_type": "code",
   "execution_count": 34,
   "metadata": {},
   "outputs": [
    {
     "name": "stdout",
     "output_type": "stream",
     "text": [
      "The True Positive Rate is: [0.80361757 0.75075075]\n",
      "The Precision is: [0.7893401  0.76687117]\n",
      "The False positive rate is: [0.24924925 0.19638243]\n",
      "The False Negative Rate is:  [0.19638243 0.24924925]\n",
      "\n",
      "The average TPR is: 0.7771841609050911\n",
      "The average Precision is: 0.7781056335835073\n",
      "The average False positive rate is: 0.22281583909490887\n",
      "The average False Negative Rate is: 0.22281583909490887\n"
     ]
    }
   ],
   "source": [
    "# Calculating False Positives (FP), False Negatives (FN), True Positives (TP) & True Negatives (TN)\n",
    "\n",
    "FP = cm.sum(axis=0) - np.diag(cm)\n",
    "FN = cm.sum(axis=1) - np.diag(cm)\n",
    "TP = np.diag(cm)\n",
    "TN = cm.sum() - (FP + FN + TP)\n",
    "\n",
    "\n",
    "# Sensitivity, hit rate, recall, or true positive rate\n",
    "TPR = TP / (TP + FN)\n",
    "print(\"The True Positive Rate is:\", TPR)\n",
    "\n",
    "# Precision or positive predictive value\n",
    "PPV = TP / (TP + FP)\n",
    "print(\"The Precision is:\", PPV)\n",
    "\n",
    "# False positive rate or False alarm rate\n",
    "FPR = FP / (FP + TN)\n",
    "print(\"The False positive rate is:\", FPR)\n",
    "\n",
    "\n",
    "# False negative rate or Miss Rate\n",
    "FNR = FN / (FN + TP)\n",
    "print(\"The False Negative Rate is: \", FNR)\n",
    "\n",
    "\n",
    "\n",
    "##Total averages :\n",
    "print(\"\")\n",
    "print(\"The average TPR is:\", TPR.sum()/2)\n",
    "print(\"The average Precision is:\", PPV.sum()/2)\n",
    "print(\"The average False positive rate is:\", FPR.sum()/2)\n",
    "print(\"The average False Negative Rate is:\", FNR.sum()/2)\n"
   ]
  },
  {
   "cell_type": "code",
   "execution_count": 35,
   "metadata": {},
   "outputs": [
    {
     "name": "stdout",
     "output_type": "stream",
     "text": [
      "The Log Loss on Training is:  0.45612184705395276\n",
      "The Log Loss on Testing Dataset is:  0.49358753585350656\n"
     ]
    }
   ],
   "source": [
    "# Running Log loss on training\n",
    "print(\"The Log Loss on Training is: \", log_loss(y_train, pred_proba))\n",
    "\n",
    "# Running Log loss on testing\n",
    "pred_proba_t = log_reg.predict_proba(X_test)\n",
    "print(\"The Log Loss on Testing Dataset is: \", log_loss(y_test, pred_proba_t))\n"
   ]
  },
  {
   "cell_type": "code",
   "execution_count": null,
   "metadata": {},
   "outputs": [],
   "source": []
  },
  {
   "cell_type": "code",
   "execution_count": null,
   "metadata": {},
   "outputs": [],
   "source": []
  }
 ],
 "metadata": {
  "kernelspec": {
   "display_name": "Python 3",
   "language": "python",
   "name": "python3"
  },
  "language_info": {
   "codemirror_mode": {
    "name": "ipython",
    "version": 3
   },
   "file_extension": ".py",
   "mimetype": "text/x-python",
   "name": "python",
   "nbconvert_exporter": "python",
   "pygments_lexer": "ipython3",
   "version": "3.8.5"
  }
 },
 "nbformat": 4,
 "nbformat_minor": 2
}
